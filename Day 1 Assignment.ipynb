{
 "cells": [
  {
   "cell_type": "code",
   "execution_count": 1,
   "id": "55d549f8",
   "metadata": {},
   "outputs": [
    {
     "name": "stdout",
     "output_type": "stream",
     "text": [
      "Integer value: 10\n",
      "Type of my_int: <class 'int'>\n",
      "\n",
      "Float value: 3.14\n",
      "Type of my_float: <class 'float'>\n",
      "\n",
      "String value: Hello, World!\n",
      "Type of my_string: <class 'str'>\n",
      "\n",
      "Boolean value: True\n",
      "Type of my_boolean: <class 'bool'>\n"
     ]
    }
   ],
   "source": [
    "my_int = 10\n",
    "my_float = 3.14\n",
    "my_string = \"Hello, World!\"\n",
    "my_boolean = True\n",
    "\n",
    "print(\"Integer value:\", my_int)\n",
    "print(\"Type of my_int:\", type(my_int))\n",
    "\n",
    "print(\"\\nFloat value:\", my_float)\n",
    "print(\"Type of my_float:\", type(my_float))\n",
    "\n",
    "print(\"\\nString value:\", my_string)\n",
    "print(\"Type of my_string:\", type(my_string))\n",
    "\n",
    "print(\"\\nBoolean value:\", my_boolean)\n",
    "print(\"Type of my_boolean:\", type(my_boolean))\n"
   ]
  },
  {
   "cell_type": "code",
   "execution_count": null,
   "id": "9e574a90",
   "metadata": {},
   "outputs": [],
   "source": []
  }
 ],
 "metadata": {
  "kernelspec": {
   "display_name": "Python 3 (ipykernel)",
   "language": "python",
   "name": "python3"
  },
  "language_info": {
   "codemirror_mode": {
    "name": "ipython",
    "version": 3
   },
   "file_extension": ".py",
   "mimetype": "text/x-python",
   "name": "python",
   "nbconvert_exporter": "python",
   "pygments_lexer": "ipython3",
   "version": "3.11.5"
  }
 },
 "nbformat": 4,
 "nbformat_minor": 5
}
